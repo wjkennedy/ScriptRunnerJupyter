{
 "cells": [
  {
   "cell_type": "markdown",
   "id": "ee8b62c0",
   "metadata": {},
   "source": [
    "# ScriptRunner duplicator\n",
    "\n",
    "Provide a Groovyscript example with a {project} placeholder and select the projects for which you wish to generate scripts.\n",
    "\n",
    "Output is in a YYYYmmdd directory (change as desired)\n",
    "\n"
   ]
  },
  {
   "cell_type": "code",
   "execution_count": 1,
   "id": "58c3502e",
   "metadata": {
    "scrolled": false
   },
   "outputs": [
    {
     "data": {
      "application/vnd.jupyter.widget-view+json": {
       "model_id": "3e5a7ee893a14c5a953fd042a9937038",
       "version_major": 2,
       "version_minor": 0
      },
      "text/plain": [
       "Checkbox(value=False, description='GREAYS')"
      ]
     },
     "metadata": {},
     "output_type": "display_data"
    },
    {
     "data": {
      "application/vnd.jupyter.widget-view+json": {
       "model_id": "48da9fdf2a12434e84ad9c0bc990c818",
       "version_major": 2,
       "version_minor": 0
      },
      "text/plain": [
       "Checkbox(value=False, description='TUPIL')"
      ]
     },
     "metadata": {},
     "output_type": "display_data"
    },
    {
     "data": {
      "application/vnd.jupyter.widget-view+json": {
       "model_id": "a8a910687af647a283f3fc30be5c42c6",
       "version_major": 2,
       "version_minor": 0
      },
      "text/plain": [
       "Checkbox(value=False, description='ESOR')"
      ]
     },
     "metadata": {},
     "output_type": "display_data"
    },
    {
     "name": "stdout",
     "output_type": "stream",
     "text": [
      "None\n",
      "upload Groovy template with {project} placeholder\n"
     ]
    },
    {
     "data": {
      "application/vnd.jupyter.widget-view+json": {
       "model_id": "0d9a5e6b778549bf9f39ab86609a197a",
       "version_major": 2,
       "version_minor": 0
      },
      "text/plain": [
       "FileUpload(value=(), accept='.groovy', description='Upload')"
      ]
     },
     "metadata": {},
     "output_type": "display_data"
    }
   ],
   "source": [
    "import pandas as pd\n",
    "import ipywidgets as widgets\n",
    "import os\n",
    "from datetime import datetime\n",
    "\n",
    "def generate_groovy_script(df):\n",
    "    groovy_script = ''\n",
    "    for index, row in df.iterrows():\n",
    "        project = row['Project Name']\n",
    "        \n",
    "# Read projects from csv\n",
    "df = pd.read_csv('projects.csv')\n",
    "\n",
    "# Add Generate column for checkboxes\n",
    "df['Generate'] = False\n",
    "\n",
    "# Checkbox widgets for each project\n",
    "checkboxes = []\n",
    "for project in df['Project Name']:\n",
    "    checkbox = widgets.Checkbox(value=False, description=project)\n",
    "    checkboxes.append(checkbox)\n",
    "display(*checkboxes)\n",
    "\n",
    "# Update Generate column based on checkboxes\n",
    "def on_checkbox_change(change):\n",
    "    df.loc[df['Project Name'] == change['owner'].description, 'Generate'] = change['new']\n",
    "\n",
    "for checkbox in checkboxes:\n",
    "    checkbox.observe(on_checkbox_change, names='value')\n",
    "\n",
    "# generate groovy script\n",
    "groovy_script = generate_groovy_script(df)\n",
    "print(groovy_script)\n",
    "\n",
    "# File upload widget\n",
    "print(\"upload Groovy template with {project} placeholder\")\n",
    "\n",
    "upload = widgets.FileUpload(accept='.groovy', multiple=False)\n",
    "display(upload)\n",
    "\n",
    "\n",
    "\n",
    "# Replace the groovy_script value with the uploaded script\n",
    "def on_upload(change):\n",
    "    global groovy_script\n",
    "    groovy_script = change['new'][0]['content'].tobytes().decode()\n",
    "    #print(groovy_script)\n",
    "\n",
    "upload.observe(on_upload, names='value')\n",
    "\n",
    "# Write groovy scripts to a directory with the current date\n",
    "def write_groovy_scripts(df):\n",
    "    date_str = datetime.now().strftime('%Y%m%d')\n",
    "    dir_name = f'generated_{date_str}'\n",
    "    if not os.path.exists(dir_name):\n",
    "        os.makedirs(dir_name)\n",
    "    for index, row in df.iterrows():\n",
    "        if row['Generate']:\n",
    "            project = row['Project Name']\n",
    "            file_name = f'{dir_name}/{project}_{date_str}.groovy'\n",
    "            with open(file_name, 'w') as f:\n",
    "                script = groovy_script.replace('{project}', project)\n",
    "                f.write(script)\n",
    "            print(f'Generated groovy script: {file_name}')\n",
    "\n"
   ]
  },
  {
   "cell_type": "code",
   "execution_count": 39,
   "id": "fe8ce49b",
   "metadata": {},
   "outputs": [
    {
     "data": {
      "application/vnd.jupyter.widget-view+json": {
       "model_id": "c5dc40d19d284e13a2ba1ec2357a01bd",
       "version_major": 2,
       "version_minor": 0
      },
      "text/plain": [
       "Button(description='Write Groovy Scripts', style=ButtonStyle())"
      ]
     },
     "metadata": {},
     "output_type": "display_data"
    },
    {
     "name": "stdout",
     "output_type": "stream",
     "text": [
      "Generated groovy script: generated_20230202/GREAYS_20230202.groovy\n",
      "Generated groovy script: generated_20230202/ESOR_20230202.groovy\n"
     ]
    }
   ],
   "source": [
    "# Button widget to call write_groovy_scripts\n",
    "button = widgets.Button(description='Write Groovy Scripts')\n",
    "display(button)\n",
    "\n",
    "def on_button_clicked(b):\n",
    "    write_groovy_scripts(df)\n",
    "\n",
    "button.on_click(on_button_clicked)"
   ]
  }
 ],
 "metadata": {
  "kernelspec": {
   "display_name": "Python 3 (ipykernel)",
   "language": "python",
   "name": "python3"
  },
  "language_info": {
   "codemirror_mode": {
    "name": "ipython",
    "version": 3
   },
   "file_extension": ".py",
   "mimetype": "text/x-python",
   "name": "python",
   "nbconvert_exporter": "python",
   "pygments_lexer": "ipython3",
   "version": "3.9.2"
  }
 },
 "nbformat": 4,
 "nbformat_minor": 5
}
